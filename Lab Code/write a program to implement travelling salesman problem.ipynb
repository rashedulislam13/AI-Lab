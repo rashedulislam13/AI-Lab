{
 "cells": [
  {
   "cell_type": "code",
   "execution_count": 2,
   "id": "d22dc403",
   "metadata": {},
   "outputs": [
    {
     "name": "stdout",
     "output_type": "stream",
     "text": [
      "Enter the number of nodes: 4\n",
      "\n",
      "Enter the Cost Matrix:\n",
      "0 3 4 6\n",
      "1 0 3 3\n",
      "4 1 0 4\n",
      "2 4 3 0\n",
      "\n",
      "\n",
      "The Path is:\n",
      "1 ---> 2 ---> 3 ---> 4 ---> 1 ---> \n",
      "\n",
      "Minimum cost is 12\n"
     ]
    }
   ],
   "source": [
    "def take_input():\n",
    "    global n, cost\n",
    "    n = int(input(\"Enter the number of nodes: \"))\n",
    "    cost = 0\n",
    "    ary = []\n",
    "    completed = [0] * n\n",
    "\n",
    "    print(\"\\nEnter the Cost Matrix:\")\n",
    "\n",
    "    for i in range(n):\n",
    "        row = list(map(int, input().split()))\n",
    "        ary.append(row)\n",
    "        completed[i] = 0\n",
    "\n",
    "    return ary, completed\n",
    "\n",
    "def min_cost(city):\n",
    "    global cost\n",
    "    completed[city] = 1\n",
    "    print(city + 1, end=\" ---> \")\n",
    "    ncity = least(city)\n",
    "\n",
    "    if ncity == 999:\n",
    "        ncity = 0\n",
    "        print(ncity + 1, end=\" ---> \")\n",
    "        cost += ary[city][ncity]\n",
    "        return\n",
    "\n",
    "    min_cost(ncity)\n",
    "\n",
    "def least(c):\n",
    "    global cost\n",
    "    nc = 999\n",
    "    kmin = 999\n",
    "    i = 0\n",
    "    min = 999\n",
    "\n",
    "    for i in range(n):\n",
    "        if ary[c][i] != 0 and completed[i] == 0:\n",
    "            if ary[c][i] + ary[i][c] < min:\n",
    "                min = ary[c][i] + ary[i][c]\n",
    "                kmin = ary[c][i]\n",
    "                nc = i\n",
    "\n",
    "    if min != 999:\n",
    "        cost += kmin\n",
    "\n",
    "    return nc\n",
    "4\n",
    "\n",
    "ary, completed = take_input()\n",
    "\n",
    "print(\"\\n\\nThe Path is:\")\n",
    "min_cost(0)  # passing 0 because it's the starting vertex\n",
    "\n",
    "print(\"\\n\\nMinimum cost is\", cost)\n"
   ]
  },
  {
   "cell_type": "code",
   "execution_count": null,
   "id": "d1d19054",
   "metadata": {},
   "outputs": [],
   "source": []
  }
 ],
 "metadata": {
  "kernelspec": {
   "display_name": "Python 3 (ipykernel)",
   "language": "python",
   "name": "python3"
  },
  "language_info": {
   "codemirror_mode": {
    "name": "ipython",
    "version": 3
   },
   "file_extension": ".py",
   "mimetype": "text/x-python",
   "name": "python",
   "nbconvert_exporter": "python",
   "pygments_lexer": "ipython3",
   "version": "3.9.13"
  }
 },
 "nbformat": 4,
 "nbformat_minor": 5
}
