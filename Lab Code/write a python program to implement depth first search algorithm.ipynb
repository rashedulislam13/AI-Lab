{
 "cells": [
  {
   "cell_type": "code",
   "execution_count": 3,
   "id": "b9ffe38c",
   "metadata": {},
   "outputs": [
    {
     "name": "stdout",
     "output_type": "stream",
     "text": [
      "Enter the start vertex: 1\n",
      "Depth-First Traversal (starting from vertex 1 ):\n",
      "1 2 0 3 "
     ]
    }
   ],
   "source": [
    "from collections import defaultdict\n",
    "\n",
    "class Graph:\n",
    "    def __init__(self):\n",
    "        self.graph = defaultdict(list)\n",
    "\n",
    "    def add_edge(self, u, v):\n",
    "        self.graph[u].append(v)\n",
    "\n",
    "    def dfs(self, vertex, visited):\n",
    "        visited.add(vertex)\n",
    "        print(vertex, end=' ')\n",
    "\n",
    "        for neighbor in self.graph[vertex]:\n",
    "            if neighbor not in visited:\n",
    "                self.dfs(neighbor, visited)\n",
    "\n",
    "# Example usage:\n",
    "g = Graph()\n",
    "g.add_edge(0, 1)\n",
    "g.add_edge(0, 2)\n",
    "g.add_edge(1, 2)\n",
    "g.add_edge(2, 0)\n",
    "g.add_edge(2, 3)\n",
    "g.add_edge(3, 3)\n",
    "\n",
    "# Get the start vertex from the user\n",
    "start_vertex = int(input(\"Enter the start vertex: \"))\n",
    "print(\"Depth-First Traversal (starting from vertex\", start_vertex, \"):\")\n",
    "visited = set()\n",
    "g.dfs(start_vertex, visited)\n"
   ]
  },
  {
   "cell_type": "code",
   "execution_count": null,
   "id": "4b9a0936",
   "metadata": {},
   "outputs": [],
   "source": []
  },
  {
   "cell_type": "code",
   "execution_count": null,
   "id": "d92dae76",
   "metadata": {},
   "outputs": [],
   "source": []
  }
 ],
 "metadata": {
  "kernelspec": {
   "display_name": "Python 3 (ipykernel)",
   "language": "python",
   "name": "python3"
  },
  "language_info": {
   "codemirror_mode": {
    "name": "ipython",
    "version": 3
   },
   "file_extension": ".py",
   "mimetype": "text/x-python",
   "name": "python",
   "nbconvert_exporter": "python",
   "pygments_lexer": "ipython3",
   "version": "3.9.13"
  }
 },
 "nbformat": 4,
 "nbformat_minor": 5
}
