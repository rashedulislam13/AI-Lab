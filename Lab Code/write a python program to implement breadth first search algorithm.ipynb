{
 "cells": [
  {
   "cell_type": "code",
   "execution_count": 4,
   "id": "3dd6e9e2",
   "metadata": {},
   "outputs": [
    {
     "name": "stdout",
     "output_type": "stream",
     "text": [
      "Enter the start vertex: 2\n",
      "Breadth-First Traversal (starting from vertex 2 ):\n",
      "2 0 3 1 "
     ]
    }
   ],
   "source": [
    "from collections import defaultdict\n",
    "\n",
    "class Graph:\n",
    "    def __init__(self):\n",
    "        self.graph = defaultdict(list)\n",
    "\n",
    "    def add_edge(self, u, v):\n",
    "        self.graph[u].append(v)\n",
    "\n",
    "    def bfs(self, start):\n",
    "        visited = set()\n",
    "        queue = [start]\n",
    "\n",
    "        while queue:\n",
    "            vertex = queue.pop(0)\n",
    "            if vertex not in visited:\n",
    "                print(vertex, end=' ')\n",
    "                visited.add(vertex)\n",
    "                queue.extend([neighbor for neighbor in self.graph[vertex] if neighbor not in visited])\n",
    "\n",
    "# Create a graph\n",
    "g = Graph()\n",
    "g.add_edge(0, 1)\n",
    "g.add_edge(0, 2)\n",
    "g.add_edge(1, 2)\n",
    "g.add_edge(2, 0)\n",
    "g.add_edge(2, 3)\n",
    "g.add_edge(3, 3)\n",
    "\n",
    "# Get the start vertex from the user\n",
    "start_vertex = int(input(\"Enter the start vertex: \"))\n",
    "\n",
    "# Perform BFS from the user-specified start vertex\n",
    "print(\"Breadth-First Traversal (starting from vertex\", start_vertex, \"):\")\n",
    "g.bfs(start_vertex)\n"
   ]
  },
  {
   "cell_type": "code",
   "execution_count": null,
   "id": "9aa458eb",
   "metadata": {},
   "outputs": [],
   "source": []
  },
  {
   "cell_type": "code",
   "execution_count": null,
   "id": "bb2f9dcd",
   "metadata": {},
   "outputs": [],
   "source": []
  }
 ],
 "metadata": {
  "kernelspec": {
   "display_name": "Python 3 (ipykernel)",
   "language": "python",
   "name": "python3"
  },
  "language_info": {
   "codemirror_mode": {
    "name": "ipython",
    "version": 3
   },
   "file_extension": ".py",
   "mimetype": "text/x-python",
   "name": "python",
   "nbconvert_exporter": "python",
   "pygments_lexer": "ipython3",
   "version": "3.9.13"
  }
 },
 "nbformat": 4,
 "nbformat_minor": 5
}
