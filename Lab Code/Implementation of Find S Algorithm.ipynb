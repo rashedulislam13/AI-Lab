{
 "cells": [
  {
   "cell_type": "code",
   "execution_count": 1,
   "id": "8033aca5",
   "metadata": {},
   "outputs": [],
   "source": [
    "import pandas as pd\n",
    "import numpy as np"
   ]
  },
  {
   "cell_type": "code",
   "execution_count": 2,
   "id": "26bc4f22",
   "metadata": {},
   "outputs": [],
   "source": [
    "df= pd.read_csv('S algorithm.csv')\n",
    "x = np.array(df)[:,:-1] #ignore enjoy spot because it's depedent variable\n",
    "y = np.array(df)[:,-1] #take only last column,it's dependent variable\n"
   ]
  },
  {
   "cell_type": "code",
   "execution_count": 5,
   "id": "73d82b95",
   "metadata": {},
   "outputs": [],
   "source": [
    "def train(ind,dep):                     #ind=independent,dep=dependent\n",
    "    for i,val in enumerate(dep):         #i=index:0,1,2,3 /val=yes\n",
    "        if val =='yes':\n",
    "            specific= ind[i].copy()\n",
    "            break\n",
    "    for i, val in enumerate(ind):     #i=0(index),val=['sunny' 'warm' 'normal' 'strong' 'warm' 'same']\n",
    "        #print(i)\n",
    "        #print(val)\n",
    "        if dep[i]=='yes':\n",
    "            for j in range(len(specific)):\n",
    "                if val[j] !=specific[j]:\n",
    "                    specific[j]='?'\n",
    "                else:\n",
    "                    pass\n",
    "    return specific"
   ]
  },
  {
   "cell_type": "code",
   "execution_count": 6,
   "id": "b1d0e861",
   "metadata": {},
   "outputs": [
    {
     "data": {
      "text/plain": [
       "array(['sunny', 'warm', '?', 'strong', '?', '?'], dtype=object)"
      ]
     },
     "execution_count": 6,
     "metadata": {},
     "output_type": "execute_result"
    }
   ],
   "source": [
    "result=train(x,y)\n",
    "result"
   ]
  },
  {
   "cell_type": "code",
   "execution_count": 7,
   "id": "27152ee6",
   "metadata": {},
   "outputs": [
    {
     "name": "stdout",
     "output_type": "stream",
     "text": [
      "Enter 6 word to check: ss warm\n"
     ]
    }
   ],
   "source": [
    "day=input(\"Enter 6 word to check: \")\n",
    "day=day.split()\n",
    "check=True"
   ]
  },
  {
   "cell_type": "code",
   "execution_count": 8,
   "id": "09e8243a",
   "metadata": {},
   "outputs": [
    {
     "name": "stdout",
     "output_type": "stream",
     "text": [
      "Not Enjoy\n"
     ]
    }
   ],
   "source": [
    "for i in range(len(result)):\n",
    "    if result[i]=='?' or result[i]==day[i]:\n",
    "        check=True;\n",
    "    else:\n",
    "        check=False;\n",
    "        break;\n",
    "if check:\n",
    "    print(\"Enjoy spot\")\n",
    "else:\n",
    "    print(\"Not Enjoy\")"
   ]
  },
  {
   "cell_type": "code",
   "execution_count": 9,
   "id": "8ab2f181",
   "metadata": {},
   "outputs": [
    {
     "ename": "NameError",
     "evalue": "name 'data' is not defined",
     "output_type": "error",
     "traceback": [
      "\u001b[1;31m---------------------------------------------------------------------------\u001b[0m",
      "\u001b[1;31mNameError\u001b[0m                                 Traceback (most recent call last)",
      "\u001b[1;32m~\\AppData\\Local\\Temp\\ipykernel_13540\\2510413559.py\u001b[0m in \u001b[0;36m<module>\u001b[1;34m\u001b[0m\n\u001b[1;32m----> 1\u001b[1;33m \u001b[0mprint\u001b[0m\u001b[1;33m(\u001b[0m\u001b[0mdata\u001b[0m\u001b[1;33m.\u001b[0m\u001b[0mhead\u001b[0m\u001b[1;33m(\u001b[0m\u001b[1;33m)\u001b[0m\u001b[1;33m)\u001b[0m\u001b[1;33m\u001b[0m\u001b[1;33m\u001b[0m\u001b[0m\n\u001b[0m",
      "\u001b[1;31mNameError\u001b[0m: name 'data' is not defined"
     ]
    }
   ],
   "source": [
    "\n"
   ]
  },
  {
   "cell_type": "code",
   "execution_count": null,
   "id": "79d0bd07",
   "metadata": {},
   "outputs": [],
   "source": []
  }
 ],
 "metadata": {
  "kernelspec": {
   "display_name": "Python 3 (ipykernel)",
   "language": "python",
   "name": "python3"
  },
  "language_info": {
   "codemirror_mode": {
    "name": "ipython",
    "version": 3
   },
   "file_extension": ".py",
   "mimetype": "text/x-python",
   "name": "python",
   "nbconvert_exporter": "python",
   "pygments_lexer": "ipython3",
   "version": "3.9.13"
  }
 },
 "nbformat": 4,
 "nbformat_minor": 5
}
